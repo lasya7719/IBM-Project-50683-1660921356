{
 "cells": [
  {
   "cell_type": "code",
   "execution_count": null,
   "id": "660d3db3",
   "metadata": {},
   "outputs": [],
   "source": [
    "#import the libraries"
   ]
  },
  {
   "cell_type": "code",
   "execution_count": 1,
   "id": "c87e5f08",
   "metadata": {},
   "outputs": [],
   "source": [
    "from tensorflow.keras.models import Sequential\n",
    "from tensorflow.keras.layers import Dense"
   ]
  },
  {
   "cell_type": "code",
   "execution_count": 2,
   "id": "df1ff756",
   "metadata": {},
   "outputs": [],
   "source": [
    "from tensorflow.keras.layers import Convolution2D\n",
    "from tensorflow.keras.layers import MaxPooling2D\n",
    "from tensorflow.keras.layers import Flatten"
   ]
  },
  {
   "cell_type": "code",
   "execution_count": 3,
   "id": "857479cc",
   "metadata": {},
   "outputs": [],
   "source": [
    "#Image Augmentation"
   ]
  },
  {
   "cell_type": "code",
   "execution_count": 4,
   "id": "b8e78bd3",
   "metadata": {},
   "outputs": [],
   "source": [
    "from tensorflow.keras.preprocessing.image import ImageDataGenerator"
   ]
  },
  {
   "cell_type": "code",
   "execution_count": 5,
   "id": "9ecdb296",
   "metadata": {},
   "outputs": [],
   "source": [
    "train_datagen = ImageDataGenerator(rescale=1./255,shear_range=0.2,zoom_range=0.2,horizontal_flip=True,vertical_flip=True)"
   ]
  },
  {
   "cell_type": "code",
   "execution_count": 6,
   "id": "5b5c3ec2",
   "metadata": {},
   "outputs": [],
   "source": [
    "test_datagen = ImageDataGenerator(rescale=1./255)"
   ]
  },
  {
   "cell_type": "code",
   "execution_count": 7,
   "id": "d2b31c42",
   "metadata": {},
   "outputs": [],
   "source": [
    "#create the model"
   ]
  },
  {
   "cell_type": "code",
   "execution_count": 8,
   "id": "225c9378",
   "metadata": {},
   "outputs": [
    {
     "name": "stdout",
     "output_type": "stream",
     "text": [
      "Found 4317 images belonging to 5 classes.\n"
     ]
    }
   ],
   "source": [
    "x_train = train_datagen.flow_from_directory(r\"E:\\Flowers\\Training\",target_size=(128,128),batch_size=32,class_mode=\"categorical\")"
   ]
  },
  {
   "cell_type": "code",
   "execution_count": 9,
   "id": "5338381f",
   "metadata": {},
   "outputs": [
    {
     "name": "stdout",
     "output_type": "stream",
     "text": [
      "Found 2576 images belonging to 5 classes.\n"
     ]
    }
   ],
   "source": [
    "x_test = test_datagen.flow_from_directory(r\"E:\\Flowers\\Testing\",target_size=(128,128),batch_size=32,class_mode=\"categorical\")"
   ]
  },
  {
   "cell_type": "code",
   "execution_count": 10,
   "id": "2f0a0602",
   "metadata": {},
   "outputs": [
    {
     "data": {
      "text/plain": [
       "{'daisy': 0, 'dandelion': 1, 'rose': 2, 'sunflower': 3, 'tulip': 4}"
      ]
     },
     "execution_count": 10,
     "metadata": {},
     "output_type": "execute_result"
    }
   ],
   "source": [
    "x_train.class_indices"
   ]
  },
  {
   "cell_type": "code",
   "execution_count": 11,
   "id": "4c526bab",
   "metadata": {},
   "outputs": [],
   "source": [
    "model = Sequential()"
   ]
  },
  {
   "cell_type": "code",
   "execution_count": 12,
   "id": "350cf56c",
   "metadata": {},
   "outputs": [],
   "source": [
    "#Add layers"
   ]
  },
  {
   "cell_type": "code",
   "execution_count": 13,
   "id": "eca65ae8",
   "metadata": {},
   "outputs": [],
   "source": [
    "#Convolution layer"
   ]
  },
  {
   "cell_type": "code",
   "execution_count": 14,
   "id": "e7f2c1fe",
   "metadata": {},
   "outputs": [],
   "source": [
    "model.add(Convolution2D(32,(3,3),input_shape=(128,128,3),activation='relu'))"
   ]
  },
  {
   "cell_type": "code",
   "execution_count": 15,
   "id": "3dbf645f",
   "metadata": {},
   "outputs": [],
   "source": [
    "#Maxpooling layer"
   ]
  },
  {
   "cell_type": "code",
   "execution_count": 16,
   "id": "d0e9fcd7",
   "metadata": {},
   "outputs": [],
   "source": [
    "model.add(MaxPooling2D(pool_size=(2,2)))"
   ]
  },
  {
   "cell_type": "code",
   "execution_count": 17,
   "id": "3d88a667",
   "metadata": {},
   "outputs": [],
   "source": [
    "#flatten layer"
   ]
  },
  {
   "cell_type": "code",
   "execution_count": 18,
   "id": "a3e3ccc3",
   "metadata": {},
   "outputs": [],
   "source": [
    "model.add(Flatten())"
   ]
  },
  {
   "cell_type": "code",
   "execution_count": 19,
   "id": "edd429f8",
   "metadata": {},
   "outputs": [],
   "source": [
    "#hidden layer"
   ]
  },
  {
   "cell_type": "code",
   "execution_count": 20,
   "id": "97f518fb",
   "metadata": {},
   "outputs": [],
   "source": [
    "model.add(Dense(units=300,kernel_initializer=\"random_uniform\",activation=\"relu\"))"
   ]
  },
  {
   "cell_type": "code",
   "execution_count": 21,
   "id": "29a5ea6a",
   "metadata": {},
   "outputs": [],
   "source": [
    "model.add(Dense(units=200,kernel_initializer=\"random_uniform\",activation=\"relu\"))"
   ]
  },
  {
   "cell_type": "code",
   "execution_count": 22,
   "id": "217f127c",
   "metadata": {},
   "outputs": [],
   "source": [
    "#output layer"
   ]
  },
  {
   "cell_type": "code",
   "execution_count": 23,
   "id": "ade70b9e",
   "metadata": {},
   "outputs": [],
   "source": [
    "model.add(Dense(units=5,kernel_initializer=\"random_uniform\",activation=\"softmax\"))"
   ]
  },
  {
   "cell_type": "code",
   "execution_count": 24,
   "id": "4b8ce22c",
   "metadata": {},
   "outputs": [],
   "source": [
    "#compile the model"
   ]
  },
  {
   "cell_type": "code",
   "execution_count": 25,
   "id": "08842d2a",
   "metadata": {},
   "outputs": [],
   "source": [
    "model.compile(loss=\"categorical_crossentropy\",optimizer=\"adam\",metrics=[\"accuracy\"])"
   ]
  },
  {
   "cell_type": "code",
   "execution_count": 26,
   "id": "2906e021",
   "metadata": {},
   "outputs": [],
   "source": [
    "#Fit the model"
   ]
  },
  {
   "cell_type": "code",
   "execution_count": 27,
   "id": "f094d3c8",
   "metadata": {},
   "outputs": [
    {
     "name": "stderr",
     "output_type": "stream",
     "text": [
      "C:\\Users\\acer\\AppData\\Local\\Temp\\ipykernel_4216\\3124921301.py:1: UserWarning: `Model.fit_generator` is deprecated and will be removed in a future version. Please use `Model.fit`, which supports generators.\n",
      "  model.fit_generator(x_train,steps_per_epoch=135,epochs=25,validation_data=x_test,validation_steps=80)\n"
     ]
    },
    {
     "name": "stdout",
     "output_type": "stream",
     "text": [
      "Epoch 1/25\n",
      "135/135 [==============================] - 145s 1s/step - loss: 1.3076 - accuracy: 0.4443 - val_loss: 1.1110 - val_accuracy: 0.5617\n",
      "Epoch 2/25\n",
      "135/135 [==============================] - 89s 657ms/step - loss: 1.0743 - accuracy: 0.5749 - val_loss: 1.0354 - val_accuracy: 0.5984\n",
      "Epoch 3/25\n",
      "135/135 [==============================] - 110s 814ms/step - loss: 0.9782 - accuracy: 0.6074 - val_loss: 0.9868 - val_accuracy: 0.6090\n",
      "Epoch 4/25\n",
      "135/135 [==============================] - 85s 632ms/step - loss: 0.9176 - accuracy: 0.6370 - val_loss: 0.8892 - val_accuracy: 0.6441\n",
      "Epoch 5/25\n",
      "135/135 [==============================] - 78s 575ms/step - loss: 0.8748 - accuracy: 0.6593 - val_loss: 0.8656 - val_accuracy: 0.6582\n",
      "Epoch 6/25\n",
      "135/135 [==============================] - 77s 570ms/step - loss: 0.8342 - accuracy: 0.6799 - val_loss: 0.7632 - val_accuracy: 0.7074\n",
      "Epoch 7/25\n",
      "135/135 [==============================] - 78s 577ms/step - loss: 0.8015 - accuracy: 0.6921 - val_loss: 0.7861 - val_accuracy: 0.6984\n",
      "Epoch 8/25\n",
      "135/135 [==============================] - 84s 623ms/step - loss: 0.7795 - accuracy: 0.7035 - val_loss: 0.7110 - val_accuracy: 0.7336\n",
      "Epoch 9/25\n",
      "135/135 [==============================] - 77s 571ms/step - loss: 0.7791 - accuracy: 0.7005 - val_loss: 0.7637 - val_accuracy: 0.7164\n",
      "Epoch 10/25\n",
      "135/135 [==============================] - 77s 572ms/step - loss: 0.7123 - accuracy: 0.7385 - val_loss: 0.8375 - val_accuracy: 0.6934\n",
      "Epoch 11/25\n",
      "135/135 [==============================] - 93s 686ms/step - loss: 0.6998 - accuracy: 0.7378 - val_loss: 0.6391 - val_accuracy: 0.7492\n",
      "Epoch 12/25\n",
      "135/135 [==============================] - 81s 599ms/step - loss: 0.6863 - accuracy: 0.7350 - val_loss: 0.6209 - val_accuracy: 0.7633\n",
      "Epoch 13/25\n",
      "135/135 [==============================] - 77s 569ms/step - loss: 0.6709 - accuracy: 0.7484 - val_loss: 0.6608 - val_accuracy: 0.7488\n",
      "Epoch 14/25\n",
      "135/135 [==============================] - 78s 574ms/step - loss: 0.6764 - accuracy: 0.7410 - val_loss: 0.6412 - val_accuracy: 0.7539\n",
      "Epoch 15/25\n",
      "135/135 [==============================] - 136s 1s/step - loss: 0.6198 - accuracy: 0.7635 - val_loss: 0.6170 - val_accuracy: 0.7723\n",
      "Epoch 16/25\n",
      "135/135 [==============================] - 161s 1s/step - loss: 0.5977 - accuracy: 0.7758 - val_loss: 0.5387 - val_accuracy: 0.7930\n",
      "Epoch 17/25\n",
      "135/135 [==============================] - 86s 639ms/step - loss: 0.5981 - accuracy: 0.7686 - val_loss: 0.5479 - val_accuracy: 0.7918\n",
      "Epoch 18/25\n",
      "135/135 [==============================] - 76s 565ms/step - loss: 0.5864 - accuracy: 0.7836 - val_loss: 0.5934 - val_accuracy: 0.7668\n",
      "Epoch 19/25\n",
      "135/135 [==============================] - 75s 556ms/step - loss: 0.5385 - accuracy: 0.7913 - val_loss: 0.4832 - val_accuracy: 0.8219\n",
      "Epoch 20/25\n",
      "135/135 [==============================] - 80s 589ms/step - loss: 0.5543 - accuracy: 0.7897 - val_loss: 0.4526 - val_accuracy: 0.8324\n",
      "Epoch 21/25\n",
      "135/135 [==============================] - 75s 554ms/step - loss: 0.4962 - accuracy: 0.8112 - val_loss: 0.4222 - val_accuracy: 0.8395\n",
      "Epoch 22/25\n",
      "135/135 [==============================] - 76s 562ms/step - loss: 0.5024 - accuracy: 0.8096 - val_loss: 0.3986 - val_accuracy: 0.8586\n",
      "Epoch 23/25\n",
      "135/135 [==============================] - 78s 574ms/step - loss: 0.4960 - accuracy: 0.8138 - val_loss: 0.3976 - val_accuracy: 0.8590\n",
      "Epoch 24/25\n",
      "135/135 [==============================] - 79s 581ms/step - loss: 0.4537 - accuracy: 0.8293 - val_loss: 0.4228 - val_accuracy: 0.8453\n",
      "Epoch 25/25\n",
      "135/135 [==============================] - 77s 573ms/step - loss: 0.4401 - accuracy: 0.8344 - val_loss: 0.4202 - val_accuracy: 0.8469\n"
     ]
    },
    {
     "data": {
      "text/plain": [
       "<keras.callbacks.History at 0x1f5ca56d2e0>"
      ]
     },
     "execution_count": 27,
     "metadata": {},
     "output_type": "execute_result"
    }
   ],
   "source": [
    "model.fit_generator(x_train,steps_per_epoch=135,epochs=25,validation_data=x_test,validation_steps=80)"
   ]
  },
  {
   "cell_type": "code",
   "execution_count": null,
   "id": "f2c9fd61",
   "metadata": {},
   "outputs": [],
   "source": [
    "#Save the model"
   ]
  },
  {
   "cell_type": "code",
   "execution_count": 28,
   "id": "a5cc0494",
   "metadata": {},
   "outputs": [],
   "source": [
    "model.save(\"flower.h5\")"
   ]
  },
  {
   "cell_type": "code",
   "execution_count": null,
   "id": "1c0492d5",
   "metadata": {},
   "outputs": [],
   "source": [
    "#Test the model"
   ]
  },
  {
   "cell_type": "code",
   "execution_count": 2,
   "id": "5a850d43",
   "metadata": {},
   "outputs": [],
   "source": [
    "from tensorflow.keras.models import load_model\n",
    "from tensorflow.keras.preprocessing import image"
   ]
  },
  {
   "cell_type": "code",
   "execution_count": 3,
   "id": "0d5f860c",
   "metadata": {},
   "outputs": [],
   "source": [
    "import numpy as np"
   ]
  },
  {
   "cell_type": "code",
   "execution_count": 4,
   "id": "2bb49213",
   "metadata": {},
   "outputs": [],
   "source": [
    "model = load_model(\"Flower.h5\")"
   ]
  },
  {
   "cell_type": "code",
   "execution_count": 6,
   "id": "2da61151",
   "metadata": {},
   "outputs": [
    {
     "data": {
      "image/png": "[encoded data removed]",
      "text/plain": [
       "<PIL.Image.Image image mode=RGB size=128x128 at 0x2020FB1D250>"
      ]
     },
     "execution_count": 6,
     "metadata": {},
     "output_type": "execute_result"
    }
   ],
   "source": [
    "img = image.load_img(r\"C:\\Users\\acer\\Downloads\\rose.jpg\",target_size=(128,128))\n",
    "img"
   ]
  },
  {
   "cell_type": "code",
   "execution_count": 7,
   "id": "bf4c4c80",
   "metadata": {},
   "outputs": [
    {
     "data": {
      "text/plain": [
       "PIL.Image.Image"
      ]
     },
     "execution_count": 7,
     "metadata": {},
     "output_type": "execute_result"
    }
   ],
   "source": [
    "type(img)"
   ]
  },
  {
   "cell_type": "code",
   "execution_count": 9,
   "id": "eec82120",
   "metadata": {},
   "outputs": [
    {
     "data": {
      "text/plain": [
       "array([[[ 52.,  60.,  96.],\n",
       "        [ 51.,  59.,  95.],\n",
       "        [ 50.,  58.,  95.],\n",
       "        ...,\n",
       "        [ 54.,  67.,  99.],\n",
       "        [ 55.,  69.,  98.],\n",
       "        [ 55.,  69.,  96.]],\n",
       "\n",
       "       [[ 54.,  62.,  98.],\n",
       "        [ 52.,  60.,  96.],\n",
       "        [ 51.,  59.,  96.],\n",
       "        ...,\n",
       "        [ 54.,  67.,  99.],\n",
       "        [ 56.,  70.,  99.],\n",
       "        [ 57.,  71.,  98.]],\n",
       "\n",
       "       [[ 56.,  64., 100.],\n",
       "        [ 53.,  61.,  97.],\n",
       "        [ 52.,  60.,  97.],\n",
       "        ...,\n",
       "        [ 56.,  69., 101.],\n",
       "        [ 57.,  71., 100.],\n",
       "        [ 58.,  72.,  99.]],\n",
       "\n",
       "       ...,\n",
       "\n",
       "       [[ 54.,  78., 104.],\n",
       "        [ 57.,  81., 107.],\n",
       "        [ 56.,  82., 107.],\n",
       "        ...,\n",
       "        [ 43.,  63.,  88.],\n",
       "        [ 42.,  62.,  87.],\n",
       "        [ 41.,  61.,  86.]],\n",
       "\n",
       "       [[ 54.,  78., 104.],\n",
       "        [ 56.,  80., 106.],\n",
       "        [ 56.,  82., 107.],\n",
       "        ...,\n",
       "        [ 42.,  62.,  87.],\n",
       "        [ 41.,  61.,  86.],\n",
       "        [ 41.,  61.,  86.]],\n",
       "\n",
       "       [[ 55.,  79., 105.],\n",
       "        [ 54.,  78., 104.],\n",
       "        [ 55.,  81., 106.],\n",
       "        ...,\n",
       "        [ 42.,  62.,  87.],\n",
       "        [ 41.,  61.,  86.],\n",
       "        [ 40.,  60.,  85.]]], dtype=float32)"
      ]
     },
     "execution_count": 9,
     "metadata": {},
     "output_type": "execute_result"
    }
   ],
   "source": [
    "x = image.img_to_array(img)\n",
    "x"
   ]
  },
  {
   "cell_type": "code",
   "execution_count": 10,
   "id": "c81ff648",
   "metadata": {},
   "outputs": [
    {
     "data": {
      "text/plain": [
       "(128, 128, 3)"
      ]
     },
     "execution_count": 10,
     "metadata": {},
     "output_type": "execute_result"
    }
   ],
   "source": [
    "x.shape"
   ]
  },
  {
   "cell_type": "code",
   "execution_count": 11,
   "id": "5add0c3a",
   "metadata": {},
   "outputs": [
    {
     "data": {
      "text/plain": [
       "(1, 128, 128, 3)"
      ]
     },
     "execution_count": 11,
     "metadata": {},
     "output_type": "execute_result"
    }
   ],
   "source": [
    "x = np.expand_dims(x,axis=0)\n",
    "x.shape"
   ]
  },
  {
   "cell_type": "code",
   "execution_count": 12,
   "id": "cb67383f",
   "metadata": {},
   "outputs": [
    {
     "name": "stdout",
     "output_type": "stream",
     "text": [
      "1/1 [==============================] - 1s 1s/step\n"
     ]
    },
    {
     "data": {
      "text/plain": [
       "array([[0., 0., 1., 0., 0.]], dtype=float32)"
      ]
     },
     "execution_count": 12,
     "metadata": {},
     "output_type": "execute_result"
    }
   ],
   "source": [
    "pred_prob = model.predict(x)\n",
    "pred_prob"
   ]
  },
  {
   "cell_type": "code",
   "execution_count": 13,
   "id": "3da11b19",
   "metadata": {},
   "outputs": [
    {
     "data": {
      "text/plain": [
       "2"
      ]
     },
     "execution_count": 13,
     "metadata": {},
     "output_type": "execute_result"
    }
   ],
   "source": [
    "class_name = [\"daisy\",\"dandelion\",\"rose\",\"sunfower\",\"tulip\"]\n",
    "pred_id = pred_prob.argmax(axis=1)[0]\n",
    "pred_id"
   ]
  },
  {
   "cell_type": "code",
   "execution_count": 14,
   "id": "3ca635c6",
   "metadata": {},
   "outputs": [
    {
     "name": "stdout",
     "output_type": "stream",
     "text": [
      "Predicted animal is rose\n"
     ]
    }
   ],
   "source": [
    "print(\"Predicted animal is\",str(class_name[pred_id]))"
   ]
  },
  {
   "cell_type": "code",
   "execution_count": null,
   "id": "ba936080",
   "metadata": {},
   "outputs": [],
   "source": []
  }
 ],
 "metadata": {
  "kernelspec": {
   "display_name": "Python 3 (ipykernel)",
   "language": "python",
   "name": "python3"
  },
  "language_info": {
   "codemirror_mode": {
    "name": "ipython",
    "version": 3
   },
   "file_extension": ".py",
   "mimetype": "text/x-python",
   "name": "python",
   "nbconvert_exporter": "python",
   "pygments_lexer": "ipython3",
   "version": "3.9.12"
  }
 },
 "nbformat": 4,
 "nbformat_minor": 5
}
